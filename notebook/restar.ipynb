{
 "cells": [
  {
   "cell_type": "markdown",
   "metadata": {},
   "source": [
    "EN ESTE NOTEBOOK DEMUESTRO QUE NO SÉ RESTAR 2 NÚMEROS Y QUE TENGO QUE HACERLO CON PYTHON"
   ]
  },
  {
   "cell_type": "code",
   "execution_count": 3,
   "metadata": {},
   "outputs": [
    {
     "name": "stdout",
     "output_type": "stream",
     "text": [
      "la resta de 8 - 3 es: 5\n"
     ]
    }
   ],
   "source": [
    "#función restar:\n",
    "\n",
    "def restar(a, b):\n",
    "    resta = a - b\n",
    "    return resta\n",
    "\n",
    "print(f\"la resta de 8 - 3 es: {restar(8, 3)}\")"
   ]
  },
  {
   "cell_type": "code",
   "execution_count": 6,
   "metadata": {},
   "outputs": [
    {
     "name": "stdout",
     "output_type": "stream",
     "text": [
      "La resta de 5 - 3 es: 2\n"
     ]
    }
   ],
   "source": [
    "#resta con Numpy\n",
    "\n",
    "import numpy as np\n",
    "\n",
    "print(f\"La resta de 5 - 3 es: {np.subtract(5, 3)}\")"
   ]
  }
 ],
 "metadata": {
  "kernelspec": {
   "display_name": "Python 3",
   "language": "python",
   "name": "python3"
  },
  "language_info": {
   "codemirror_mode": {
    "name": "ipython",
    "version": 3
   },
   "file_extension": ".py",
   "mimetype": "text/x-python",
   "name": "python",
   "nbconvert_exporter": "python",
   "pygments_lexer": "ipython3",
   "version": "3.10.13"
  }
 },
 "nbformat": 4,
 "nbformat_minor": 2
}
